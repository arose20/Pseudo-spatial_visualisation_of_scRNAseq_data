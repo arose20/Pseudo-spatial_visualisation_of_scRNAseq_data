{
 "cells": [
  {
   "cell_type": "markdown",
   "id": "emerging-rainbow",
   "metadata": {},
   "source": [
    " <font size=\"10\">**Adapter notebook**</font>\n",
    "***"
   ]
  },
  {
   "cell_type": "markdown",
   "id": "welsh-confidentiality",
   "metadata": {},
   "source": [
    "<div class=\"alert alert-info\">\n",
    "    \n",
    "<b> <h1> ℹ️ <strong> <font size=\"6\" color=\"black\"> Important notebook information </font> </strong> </h1> </b>\n",
    "    <hr>\n",
    "    <font size=\"4\" color=\"black\">\n",
    "        The purpose of this notebook is to combine the binary masks generated using either Fiji or plotly with the scRNAseq data into a single anndata object<br> <br>\n",
    "    This scipt will transform the data using a function which utalises scanpy preprocessing functions</font>"
   ]
  },
  {
   "cell_type": "markdown",
   "id": "excellent-designation",
   "metadata": {},
   "source": [
    "# Import packages"
   ]
  },
  {
   "cell_type": "code",
   "execution_count": null,
   "id": "printable-hampton",
   "metadata": {
    "tags": []
   },
   "outputs": [],
   "source": [
    "import numpy as np\n",
    "import pandas as pd\n",
    "import scanpy as sc\n",
    "import anndata as ad\n",
    "import matplotlib as mpl\n",
    "import matplotlib.pyplot as plt\n",
    "import seaborn as sns\n",
    "import cv2\n",
    "from PIL import Image"
   ]
  },
  {
   "cell_type": "markdown",
   "id": "initial-salon",
   "metadata": {},
   "source": [
    "# User input"
   ]
  },
  {
   "cell_type": "code",
   "execution_count": null,
   "id": "minor-camcorder",
   "metadata": {},
   "outputs": [],
   "source": [
    "# file path to data object with transformed counts\n",
    "data_path = '/dir/dir1/dir2/anndata.h5ad'\n",
    "\n",
    "# save path\n",
    "save_path = './formatted_anndata.h5ad'\n",
    "\n",
    "# assign the names for the mask sets you would like\n",
    "masks_selector_keys = ['set1','set2','set3']\n",
    "\n",
    "# column in obs holding sectional information for each collection of masks\n",
    "region_cols = {\n",
    "'set1':'spatial_location',\n",
    "'set2':'head_body',\n",
    "'set3':'head_body',\n",
    "}\n",
    "\n",
    "\n",
    "# Dictionary for all masks required\n",
    "# include all sectional masks in desired order followed by base img and outline masks\n",
    "mask_set_1 = {\n",
    "'Section_01' : 'Mask_section_01.jpg',\n",
    "'Section_02' : 'Mask_section_02.jpg',\n",
    "'Section_03' : 'Mask_section_03.jpg',\n",
    "'Section_04' : 'Mask_section_04.jpg',\n",
    "'Section_05' : 'Mask_section_05.jpg',\n",
    "'Section_06' : 'Mask_section_06.jpg',\n",
    "'Section_07' : 'Mask_section_07.jpg',\n",
    "'Section_08' : 'Mask_section_08.jpg',\n",
    "'Section_09' : 'Mask_section_09.jpg',\n",
    "'Section_10' : 'Mask_section_10.jpg',\n",
    "'Section_11' : 'Mask_section_11.jpg',\n",
    "'Section_12' : 'Mask_section_12.jpg',\n",
    "'base_mask_key' : 'mask_sections_outlined_reverse.jpg',\n",
    "# Web portal additional:\n",
    "'ref_img' : 'reference_image.jpg',\n",
    "}\n",
    "\n",
    "mask_set_2 = {\n",
    "'head' : 'head_3.png', # head_3\n",
    "'body' : 'body_3.png',\n",
    "'base_mask_key' : 'orig_plotly.jpeg',\n",
    "# Web portal additional:\n",
    "'ref_img' : 'orig_plotly.jpeg',\n",
    "}\n",
    "\n",
    "mask_set_3 = {\n",
    "'head' : 'head_multi_test_1.png', # head_3\n",
    "'body' : 'body_multi.png',\n",
    "'base_mask_key' : 'orig_plotly.jpeg',\n",
    "# Web portal additional:\n",
    "'ref_img' : 'orig_plotly.jpeg',\n",
    "}\n",
    "\n",
    "dict_masks = {\n",
    "'12_sections' : mask_set_1,\n",
    "'head_body' : mask_set_2,\n",
    "'Picasso' : mask_set_3,\n",
    "}\n",
    "\n",
    "\n",
    "# Manual datetime dictionary if wanted - set as the same name as the date column of interest\n",
    "# If not set it will use the original column to generate timeline\n",
    "\n",
    "option_date_dictionaries = {\n",
    "    # 'col_of_interest' : {'dates':[], 'labels': []}\n",
    "    'col_of_interest' : {'dates':[[2020, 12, 11],[2021, 2, 26],[2021, 9, 9],[2021, 12, 15]],\n",
    "                         'labels':['\\nTime point 1',\n",
    "                                    '\\nTime point 2, \\n\\info', \n",
    "                                    '\\nTime point 3, \\ninfo', \n",
    "                                    '\\nTime point 4, \\ninfo']},\n",
    "}\n"
   ]
  },
  {
   "cell_type": "markdown",
   "id": "civic-orientation",
   "metadata": {},
   "source": [
    "# Read in data"
   ]
  },
  {
   "cell_type": "code",
   "execution_count": null,
   "id": "sexual-responsibility",
   "metadata": {},
   "outputs": [],
   "source": [
    "# Load in sc data \n",
    "adata = sc.read(data_path)"
   ]
  },
  {
   "cell_type": "code",
   "execution_count": null,
   "id": "basic-priest",
   "metadata": {},
   "outputs": [],
   "source": [
    "# Load masks to turn into polygons\n",
    "mask_dict = {}\n",
    "\n",
    "for key in dict_masks:\n",
    "    masks = {}\n",
    "    for mask in dict_masks[key]:\n",
    "        masks[mask] = cv2.imread(dict_masks[key][mask])\n",
    "    mask_dict[key] = masks"
   ]
  },
  {
   "cell_type": "markdown",
   "id": "finite-anger",
   "metadata": {},
   "source": [
    "# Format and clean data if required"
   ]
  },
  {
   "cell_type": "code",
   "execution_count": null,
   "id": "micro-plenty",
   "metadata": {},
   "outputs": [],
   "source": [
    "adata.obs['head_body'] = ''\n",
    "adata.obs.loc[adata.obs['spatial_location'].isin(['Section_01', 'Section_02', 'Section_03', 'Section_04', 'Section_05', 'Section_06']),'head_body'] = 'body'\n",
    "adata.obs.loc[adata.obs['spatial_location'].isin(['Section_07','Section_08', 'Section_09', 'Section_10', 'Section_11', 'Section_12']),'head_body'] = 'head'\n",
    "\n",
    "dict1 = {'F137':'26-02-2021','F147':'09-09-2021','F158':'15-11-2021',}\n",
    "adata.obs['collection_date'] = adata.obs['haniffa_ID'].astype(str).map(dict1)"
   ]
  },
  {
   "cell_type": "code",
   "execution_count": null,
   "id": "educated-stadium",
   "metadata": {},
   "outputs": [],
   "source": [
    "adata.obs = adata.obs[['dataset', 'sequencing_lane_ID', 'haniffa_ID', 'HDBR_ID',\n",
    "'sequencing_type', '10x_kit', 'spatial_location',\n",
    "'spatial_location_replicates', 'sort_ID', 'procedure', 'age_in_cs',\n",
    "'sex', 'alignment_software', 'alignment_reference',\n",
    "'cutoff_1.4826_is_doublet', 'cutoff_2_is_doublet', 'cutoff_3_is_doublet',\n",
    "'nUMI', 'nGene', 'nCounts', 'percent.mito','percent.ribo', \n",
    "'cell_labels_lvl1', 'cell_labels_lvl2','maternal_predicted', 'collection_date','head_body']]\n",
    "umap = adata.obsm['X_umap_neighbours_30'].copy()\n",
    "\n",
    "adata.obsm['X_umap'] = umap\n",
    "\n",
    "adata.obs['cell_labels_lvl1'] = adata.obs['cell_labels_lvl1'].apply(str).astype('category')\n",
    "adata.obs['cell_labels_lvl2'] = adata.obs['cell_labels_lvl2'].apply(str).astype('category')\n",
    "adata.obs['spatial_location'] = adata.obs['spatial_location'].apply(str).astype('category')\n",
    "adata.obs['head_body'] = adata.obs['head_body'].apply(str).astype('category')\n",
    "\n",
    "adata.obs['age_in_cs'] = adata.obs['age_in_cs'].apply(str).astype('category')\n",
    "adata.obs['HDBR_ID'] = adata.obs['HDBR_ID'].apply(str).astype('category')\n",
    "adata.obs['nUMI'] = adata.obs['nUMI'].astype(float)\n",
    "adata.obs['nGene'] = adata.obs['nGene'].astype(float)\n",
    "adata.obs['nCounts'] = adata.obs['nCounts'].astype(float)\n",
    "adata.obs['percent.mito'] = adata.obs['percent.mito'].astype(float)\n",
    "adata.obs['percent.ribo'] = adata.obs['percent.ribo'].astype(float)\n",
    "adata.obs['cutoff_1.4826_is_doublet'] = adata.obs['cutoff_1.4826_is_doublet'].map({'False':False, 'True':True})\n",
    "adata.obs['cutoff_2_is_doublet'] = adata.obs['cutoff_2_is_doublet'].map({'False':False, 'True':True})\n",
    "adata.obs['cutoff_3_is_doublet'] = adata.obs['cutoff_3_is_doublet'].map({'False':False, 'True':True})\n",
    "\n",
    "adata.obs['cutoff_1.4826_is_doublet'] = adata.obs['cutoff_1.4826_is_doublet'].astype(bool)\n",
    "adata.obs['cutoff_2_is_doublet'] = adata.obs['cutoff_2_is_doublet'].astype(bool)\n",
    "adata.obs['cutoff_3_is_doublet'] = adata.obs['cutoff_3_is_doublet'].astype(bool)\n",
    "\n",
    "\n",
    "adata.obs['maternal_predicted'] = adata.obs['maternal_predicted'].map({'Embryonic':False, 'Maternal_predicted':True})\n",
    "adata.obs['maternal_predicted'] = adata.obs['maternal_predicted'].astype(bool)\n",
    "\n",
    "adata.obs['collection_date'] = adata.obs['collection_date'].apply(str).astype('category')"
   ]
  },
  {
   "cell_type": "code",
   "execution_count": null,
   "id": "portable-sellers",
   "metadata": {},
   "outputs": [],
   "source": [
    "del adata.obsm['X_umap_neighbours_15']\n",
    "del adata.obsm['X_umap_neighbours_20']\n",
    "del adata.obsm['X_umap_neighbours_25']\n",
    "del adata.obsm['X_umap_neighbours_30']\n",
    "\n",
    "del adata.obsp\n",
    "del adata.uns"
   ]
  },
  {
   "cell_type": "markdown",
   "id": "played-balance",
   "metadata": {},
   "source": [
    "# Order the obs into categories for web portal dropdown - optional"
   ]
  },
  {
   "cell_type": "code",
   "execution_count": null,
   "id": "alert-warner",
   "metadata": {},
   "outputs": [],
   "source": [
    "# simple ordering\n",
    "\n",
    "celltypes_columns = ['cell_labels_lvl1', 'cell_labels_lvl2']\n",
    "spatial_regions = ['spatial_location','spatial_location_replicates','head_body']\n",
    "donor_information = ['haniffa_ID', 'HDBR_ID','age_in_cs','sex','procedure','sort_ID']\n",
    "technical_information = ['10x_kit','cutoff_1.4826_is_doublet', 'cutoff_2_is_doublet','cutoff_3_is_doublet', 'nUMI', 'nGene', 'nCounts', 'percent.mito','percent.ribo','maternal_predicted']\n",
    "general_dataset_information = ['dataset', 'sequencing_lane_ID','sequencing_type', 'alignment_software', 'alignment_reference','collection_date']\n",
    "\n",
    "column_ordering = {\n",
    "'celltypes_columns' : celltypes_columns,\n",
    "'spatial_regions' : spatial_regions,\n",
    "'donor_information' : donor_information,\n",
    "'technical_information' : technical_information,\n",
    "'general_dataset_information' : general_dataset_information,\n",
    "}\n",
    "\n",
    "adata.uns['column_ordering'] = column_ordering"
   ]
  },
  {
   "cell_type": "markdown",
   "id": "ideal-elephant",
   "metadata": {},
   "source": [
    "# Generate polygons"
   ]
  },
  {
   "cell_type": "code",
   "execution_count": null,
   "id": "interesting-tucson",
   "metadata": {},
   "outputs": [],
   "source": [
    "polygons = {}\n",
    "for key in mask_dict:\n",
    "    polygon_dict = {}\n",
    "    for mask in mask_dict[key]:\n",
    "        if (mask == 'base_mask_key') or (mask == 'ref_img'):\n",
    "            pass\n",
    "        else:\n",
    "            mask_grey = cv2.cvtColor(mask_dict[key][mask], cv2.COLOR_BGR2GRAY)\n",
    "            _, mask_thresh = cv2.threshold(mask_grey, 50, 255, cv2.THRESH_BINARY)\n",
    "            mask_contours, hierarchy = cv2.findContours(mask_thresh, cv2.RETR_TREE, cv2.CHAIN_APPROX_SIMPLE)\n",
    "            if len(mask_contours) > 1:\n",
    "                count = 0\n",
    "                for m_c in mask_contours:\n",
    "                    polygon_dict[mask + '_' + str(count)] = np.array([m_c])\n",
    "                    count+=1\n",
    "                #polygon_dict[mask] = np.array(mask_contours[-1], dtype='int32')\n",
    "            else:\n",
    "                polygon_dict[mask] = np.array(mask_contours, dtype='int32')        \n",
    "    polygons[key] = polygon_dict\n"
   ]
  },
  {
   "cell_type": "markdown",
   "id": "posted-biodiversity",
   "metadata": {},
   "source": [
    "# Generate sectional gene expression dataframe"
   ]
  },
  {
   "cell_type": "code",
   "execution_count": null,
   "id": "expressed-offense",
   "metadata": {},
   "outputs": [],
   "source": [
    "for key in list(set([v for k,v in region_cols.items()])):\n",
    "    \n",
    "    table_name = str(key) + '_gene_expression'\n",
    "    \n",
    "    if table_name not in adata.varm.keys():\n",
    "        gene_expression_table = pd.DataFrame(columns=adata.var_names, index=adata.obs[key].cat.categories)\n",
    "        for clust in adata.obs[key].cat.categories:\n",
    "            gene_expression_table.loc[clust] = adata[adata.obs[key].isin([clust]),:].X.mean(0)\n",
    "        adata.varm[table_name] = gene_expression_table.T\n",
    "        for col in adata.varm[table_name].columns:\n",
    "            adata.varm[table_name][col] = adata.varm[table_name][col].astype(float)\n",
    "            adata.varm[table_name].columns = adata.varm[table_name].columns.astype(str)\n",
    "   "
   ]
  },
  {
   "cell_type": "markdown",
   "id": "delayed-duncan",
   "metadata": {},
   "source": [
    "# Make single anndata object holding all information"
   ]
  },
  {
   "cell_type": "code",
   "execution_count": null,
   "id": "greatest-swaziland",
   "metadata": {},
   "outputs": [],
   "source": [
    "adata.uns['masks'] = {}\n",
    "\n",
    "for mask_group in region_cols:\n",
    "    \n",
    "    adata.uns['masks'][mask_group] = {}\n",
    "    \n",
    "    adata.uns['masks'][mask_group]['obs'] = region_cols[mask_group]\n",
    "    adata.uns['masks'][mask_group]['polygons'] = polygons[mask_group]\n",
    "    adata.uns['masks'][mask_group]['ref_img'] = mask_dict[mask_group]['ref_img']\n",
    "    adata.uns['masks'][mask_group]['shape'] = np.array(mask_dict[mask_group]['base_mask_key'].shape)\n",
    "    adata.uns['masks'][mask_group]['varm'] = region_cols[mask_group] + '_gene_expression'\n",
    "    \n",
    "\n",
    "adata.uns['Mask_selector'] = region_cols\n",
    "    \n",
    "adata.uns['optional_date_dictionaries'] = optional_date_dictionaries\n",
    "    "
   ]
  },
  {
   "cell_type": "markdown",
   "id": "furnished-clinic",
   "metadata": {},
   "source": [
    "# Save data object"
   ]
  },
  {
   "cell_type": "code",
   "execution_count": null,
   "id": "satisfactory-airport",
   "metadata": {},
   "outputs": [],
   "source": [
    "adata.write(save_path)\n",
    "print(f'Data saved at: {save_path}')"
   ]
  },
  {
   "cell_type": "markdown",
   "id": "exempt-nepal",
   "metadata": {},
   "source": [
    "***\n",
    "### Dependencies\n",
    "Here are some information about resources and import package versions used within this script"
   ]
  },
  {
   "cell_type": "code",
   "execution_count": 1,
   "id": "conservative-prime",
   "metadata": {},
   "outputs": [
    {
     "name": "stdout",
     "output_type": "stream",
     "text": [
      "Python implementation: CPython\n",
      "Python version       : 3.9.4\n",
      "IPython version      : 7.24.1\n",
      "\n",
      "numpy     : 1.20.3\n",
      "pandas    : 1.2.4\n",
      "scanpy    : 1.7.2\n",
      "anndata   : 0.7.6\n",
      "matplotlib: 3.5.0\n",
      "seaborn   : 0.11.1\n",
      "cv2       : 4.6.0\n",
      "PIL       : 8.2.0\n",
      "\n",
      "Compiler    : GCC 9.3.0\n",
      "OS          : Linux\n",
      "Release     : 4.15.0-112-generic\n",
      "Machine     : x86_64\n",
      "Processor   : x86_64\n",
      "CPU cores   : 26\n",
      "Architecture: 64bit\n",
      "\n"
     ]
    }
   ],
   "source": [
    "%load_ext watermark\n",
    "%watermark -v -m -p numpy,pandas,scanpy,anndata,matplotlib,seaborn,cv2,PIL"
   ]
  },
  {
   "cell_type": "code",
   "execution_count": null,
   "id": "light-execution",
   "metadata": {},
   "outputs": [],
   "source": []
  }
 ],
 "metadata": {
  "kernelspec": {
   "display_name": "Python_env_Hlab",
   "language": "python",
   "name": "python_env_hlab"
  },
  "language_info": {
   "codemirror_mode": {
    "name": "ipython",
    "version": 3
   },
   "file_extension": ".py",
   "mimetype": "text/x-python",
   "name": "python",
   "nbconvert_exporter": "python",
   "pygments_lexer": "ipython3",
   "version": "3.9.4"
  }
 },
 "nbformat": 4,
 "nbformat_minor": 5
}
